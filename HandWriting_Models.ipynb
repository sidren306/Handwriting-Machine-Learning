{
 "cells": [
  {
   "cell_type": "markdown",
   "metadata": {
    "id": "CfkV-AGm2_iV"
   },
   "source": [
    "# Handwriting Demo\n",
    "\n",
    "---"
   ]
  },
  {
   "cell_type": "markdown",
   "metadata": {
    "id": "A6PTryKL33kC"
   },
   "source": [
    "## Some links Mr Belser was working through\n",
    "\n",
    "https://www.tensorflow.org/tutorials/keras/classification\n",
    "\n",
    "https://aigeekprogrammer.com/keras-python-mnist-handwritten-digit-recognition/\n",
    "\n",
    "https://www.youtube.com/watch?v=aircAruvnKk"
   ]
  },
  {
   "cell_type": "markdown",
   "metadata": {
    "id": "Ow7UjLYg3FvI"
   },
   "source": [
    "## All imports"
   ]
  },
  {
   "cell_type": "code",
   "execution_count": 19,
   "metadata": {
    "id": "logXght52p1N"
   },
   "outputs": [],
   "source": [
    "import tensorflow as tf\n",
    "from keras.datasets import mnist\n",
    "import numpy as np\n",
    "import matplotlib\n",
    "import matplotlib.pyplot as plt"
   ]
  },
  {
   "cell_type": "markdown",
   "metadata": {},
   "source": [
    "## Do I have any GPUs"
   ]
  },
  {
   "cell_type": "code",
   "execution_count": 20,
   "metadata": {},
   "outputs": [
    {
     "name": "stdout",
     "output_type": "stream",
     "text": [
      "Num GPUs Available:  0\n"
     ]
    }
   ],
   "source": [
    "print(\"Num GPUs Available: \", len(tf.config.list_physical_devices('GPU')))"
   ]
  },
  {
   "cell_type": "markdown",
   "metadata": {
    "id": "0i9rHEjI3KIZ"
   },
   "source": [
    "## Versions"
   ]
  },
  {
   "cell_type": "code",
   "execution_count": 21,
   "metadata": {
    "colab": {
     "base_uri": "https://localhost:8080/"
    },
    "id": "B1NuRdTE236S",
    "outputId": "b53d4080-d889-434e-86cc-33ec08f67d20"
   },
   "outputs": [
    {
     "name": "stdout",
     "output_type": "stream",
     "text": [
      "Tensorflow ver :\t2.7.0\n",
      "Numpy ver :\t\t1.17.4\n",
      "matplotlib :\t\t3.1.2\n"
     ]
    }
   ],
   "source": [
    "print(\"Tensorflow ver :\\t\" + tf.__version__)\n",
    "print(\"Numpy ver :\\t\\t\" + np.__version__)\n",
    "print(\"matplotlib :\\t\\t\" + matplotlib.__version__)"
   ]
  },
  {
   "cell_type": "markdown",
   "metadata": {
    "id": "D2rSqzaI3nfJ"
   },
   "source": [
    "## Read in the data"
   ]
  },
  {
   "cell_type": "markdown",
   "metadata": {},
   "source": [
    "## Describe\n",
    "\n",
    "- X is the image\n",
    "- y is the label"
   ]
  },
  {
   "cell_type": "code",
   "execution_count": 22,
   "metadata": {
    "id": "zGpx9mWe3sBV"
   },
   "outputs": [],
   "source": [
    "(train_X, train_y), (test_X, test_y) = mnist.load_data()"
   ]
  },
  {
   "cell_type": "markdown",
   "metadata": {
    "id": "VSM_HIhipuSX"
   },
   "source": [
    "## What is the shape of the data\n",
    "\n",
    "- `train_X` contains all 60000 of the 28x28 images \n",
    "- `train_Y` contains all 60000 clasifications of those `train_X` images \n",
    "- `test_X` contains all 10000 reserved 28x28 images for testing\n",
    "- `test_Y` contains all 10000 reserved clasifications of those `test_X` images "
   ]
  },
  {
   "cell_type": "code",
   "execution_count": 23,
   "metadata": {
    "colab": {
     "base_uri": "https://localhost:8080/"
    },
    "id": "vcIIYN2S4Dgx",
    "outputId": "4ee1e192-e2ac-42a6-8081-cbd1aff2fa60"
   },
   "outputs": [
    {
     "name": "stdout",
     "output_type": "stream",
     "text": [
      "train_X:\t(60000, 28, 28)\n",
      "train_y:\t(60000,)\n",
      "test_X:\t\t(10000, 28, 28)\n",
      "test_y:\t\t(10000,)\n"
     ]
    }
   ],
   "source": [
    "print('train_X:\\t' + str(train_X.shape))\n",
    "print('train_y:\\t' + str(train_y.shape))\n",
    "print('test_X:\\t\\t'  + str(test_X.shape))\n",
    "print('test_y:\\t\\t'  + str(test_y.shape))"
   ]
  },
  {
   "cell_type": "markdown",
   "metadata": {
    "id": "uNYlKc6fqi9N"
   },
   "source": [
    "## What does an image look like?\n",
    "\n",
    "- Data\n",
    "- Display"
   ]
  },
  {
   "cell_type": "markdown",
   "metadata": {},
   "source": [
    "### What do the data look like for one image"
   ]
  },
  {
   "cell_type": "code",
   "execution_count": 24,
   "metadata": {
    "colab": {
     "base_uri": "https://localhost:8080/"
    },
    "id": "GQSDf5ymwuco",
    "outputId": "47dcab6c-39eb-4334-ed83-a2ebb7c19e4c"
   },
   "outputs": [],
   "source": [
    "# print(train_X[0])"
   ]
  },
  {
   "cell_type": "markdown",
   "metadata": {
    "id": "VUNT40zFvv1k"
   },
   "source": [
    "### The classifications"
   ]
  },
  {
   "cell_type": "code",
   "execution_count": 25,
   "metadata": {
    "colab": {
     "base_uri": "https://localhost:8080/"
    },
    "id": "YdtrmNTZv1s6",
    "outputId": "90ba4432-9b6e-4d88-858b-234e19fe8728"
   },
   "outputs": [
    {
     "ename": "NameError",
     "evalue": "name 'n_show' is not defined",
     "output_type": "error",
     "traceback": [
      "\u001b[0;31m---------------------------------------------------------------------------\u001b[0m",
      "\u001b[0;31mNameError\u001b[0m                                 Traceback (most recent call last)",
      "Input \u001b[0;32mIn [25]\u001b[0m, in \u001b[0;36m<module>\u001b[0;34m\u001b[0m\n\u001b[0;32m----> 1\u001b[0m \u001b[38;5;28;01mfor\u001b[39;00m n \u001b[38;5;129;01min\u001b[39;00m \u001b[38;5;28mrange\u001b[39m(\u001b[43mn_show\u001b[49m):\n\u001b[1;32m      2\u001b[0m   \u001b[38;5;28mprint\u001b[39m(\u001b[38;5;124m\"\u001b[39m\u001b[38;5;124mImage \u001b[39m\u001b[38;5;124m\"\u001b[39m \u001b[38;5;241m+\u001b[39m \u001b[38;5;28mstr\u001b[39m(n) \u001b[38;5;241m+\u001b[39m \u001b[38;5;124m\"\u001b[39m\u001b[38;5;124m is classified as a \u001b[39m\u001b[38;5;124m\"\u001b[39m \u001b[38;5;241m+\u001b[39m \u001b[38;5;28mstr\u001b[39m(train_y[n]))\n",
      "\u001b[0;31mNameError\u001b[0m: name 'n_show' is not defined"
     ]
    }
   ],
   "source": [
    "for n in range(n_show):\n",
    "  print(\"Image \" + str(n) + \" is classified as a \" + str(train_y[n]))"
   ]
  },
  {
   "cell_type": "markdown",
   "metadata": {
    "id": "uUSDqgytw7YF"
   },
   "source": [
    "## Prepare the data for training\n",
    "\n",
    "Need to convert the data to a domain of 0->1"
   ]
  },
  {
   "cell_type": "code",
   "execution_count": 26,
   "metadata": {
    "id": "XMC6d68TxIAO"
   },
   "outputs": [],
   "source": [
    "train_X = train_X /255\n",
    "test_X = test_X / 255"
   ]
  },
  {
   "cell_type": "code",
   "execution_count": 27,
   "metadata": {},
   "outputs": [],
   "source": [
    "# train_X[0]"
   ]
  },
  {
   "cell_type": "markdown",
   "metadata": {},
   "source": [
    "## Show a grid of images with label"
   ]
  },
  {
   "cell_type": "markdown",
   "metadata": {},
   "source": [
    "### The function to _graph it_"
   ]
  },
  {
   "cell_type": "code",
   "execution_count": 28,
   "metadata": {},
   "outputs": [],
   "source": [
    "def graphit(images, labels, rows=1, cols=1, start=0, zoom=2):\n",
    "  n_images = rows * cols\n",
    "  fig, ax = plt.subplots(rows,cols,figsize=(cols * zoom, rows * zoom))\n",
    "  for n in range(n_images):\n",
    "    plt.subplot(rows, cols, n+1)\n",
    "    plt.xticks([])\n",
    "    plt.yticks([])\n",
    "    plt.grid(False)\n",
    "    plt.imshow(images[n+start], cmap=plt.cm.binary)\n",
    "    # plt.imshow(images[n])\n",
    "    plt.xlabel(\"[\" + str(n+start) + \"] is a : \" + str(labels[n+start]))\n",
    "  plt.show()\n"
   ]
  },
  {
   "cell_type": "markdown",
   "metadata": {},
   "source": [
    "### Now set the parameters\n",
    "\n",
    "- image array\n",
    "- label array\n",
    "- rows\n",
    "- columns\n",
    "- zoom parameter"
   ]
  },
  {
   "cell_type": "code",
   "execution_count": 29,
   "metadata": {},
   "outputs": [
    {
     "data": {
      "image/png": "[encoded data removed]",
      "text/plain": [
       "<Figure size 972x648 with 24 Axes>"
      ]
     },
     "metadata": {},
     "output_type": "display_data"
    }
   ],
   "source": [
    "graphit(test_X, test_y,4,6, 200, zoom=2.25)"
   ]
  },
  {
   "cell_type": "markdown",
   "metadata": {
    "id": "KXGtk8bU4Jko"
   },
   "source": [
    "# Can I get a model to work?"
   ]
  },
  {
   "cell_type": "markdown",
   "metadata": {
    "id": "1vkObX-XSd2g"
   },
   "source": [
    "### Attempted model from the 3 blue 1 brown video\n",
    "\n",
    "https://www.youtube.com/watch?v=aircAruvnKk"
   ]
  },
  {
   "cell_type": "code",
   "execution_count": 30,
   "metadata": {
    "id": "0cnutOCkSvdV"
   },
   "outputs": [
    {
     "name": "stderr",
     "output_type": "stream",
     "text": [
      "2022-03-21 15:35:24.046032: I tensorflow/core/platform/cpu_feature_guard.cc:151] This TensorFlow binary is optimized with oneAPI Deep Neural Network Library (oneDNN) to use the following CPU instructions in performance-critical operations:  AVX2 FMA\n",
      "To enable them in other operations, rebuild TensorFlow with the appropriate compiler flags.\n"
     ]
    }
   ],
   "source": [
    "## Uncomment to use it\n",
    "#\n",
    "# https://www.youtube.com/watch?v=aircAruvnKk\n",
    "#\n",
    "\n",
    "model = tf.keras.Sequential([\n",
    "    tf.keras.layers.Flatten(input_shape=(28, 28)),\n",
    "    tf.keras.layers.Dense(128, activation='relu'),\n",
    "    tf.keras.layers.Dense(16, activation='relu'),\n",
    "    tf.keras.layers.Dense(10)\n",
    "])\n"
   ]
  },
  {
   "cell_type": "code",
   "execution_count": 31,
   "metadata": {
    "colab": {
     "base_uri": "https://localhost:8080/"
    },
    "id": "IT1RnEcBkR7R",
    "outputId": "b5bef242-575e-4729-fac2-63e060816ab3"
   },
   "outputs": [
    {
     "name": "stdout",
     "output_type": "stream",
     "text": [
      "Model: \"sequential\"\n",
      "_________________________________________________________________\n",
      " Layer (type)                Output Shape              Param #   \n",
      "=================================================================\n",
      " flatten (Flatten)           (None, 784)               0         \n",
      "                                                                 \n",
      " dense (Dense)               (None, 128)               100480    \n",
      "                                                                 \n",
      " dense_1 (Dense)             (None, 16)                2064      \n",
      "                                                                 \n",
      " dense_2 (Dense)             (None, 10)                170       \n",
      "                                                                 \n",
      "=================================================================\n",
      "Total params: 102,714\n",
      "Trainable params: 102,714\n",
      "Non-trainable params: 0\n",
      "_________________________________________________________________\n"
     ]
    }
   ],
   "source": [
    "# Display the model's architecture\n",
    "model.summary()"
   ]
  },
  {
   "cell_type": "markdown",
   "metadata": {
    "id": "z1BUFZWQUXts"
   },
   "source": [
    "### Compile the model"
   ]
  },
  {
   "cell_type": "code",
   "execution_count": 32,
   "metadata": {
    "id": "_A6OhY1aUSOz"
   },
   "outputs": [],
   "source": [
    "model.compile(optimizer='adam',\n",
    "              loss=tf.keras.losses.SparseCategoricalCrossentropy(from_logits=True),\n",
    "              metrics=['accuracy'])\n"
   ]
  },
  {
   "cell_type": "markdown",
   "metadata": {
    "id": "pS1NQjA_UhY8"
   },
   "source": [
    "### Train"
   ]
  },
  {
   "cell_type": "code",
   "execution_count": 33,
   "metadata": {
    "colab": {
     "base_uri": "https://localhost:8080/"
    },
    "id": "fCwe3uuAUjVB",
    "outputId": "c140fe68-b86b-490c-ed1f-20d50d750108"
   },
   "outputs": [
    {
     "name": "stdout",
     "output_type": "stream",
     "text": [
      "Epoch 1/10\n",
      "938/938 [==============================] - 1s 850us/step - loss: 0.3217 - accuracy: 0.9084\n",
      "Epoch 2/10\n",
      "938/938 [==============================] - 1s 840us/step - loss: 0.1364 - accuracy: 0.9603\n",
      "Epoch 3/10\n",
      "938/938 [==============================] - 1s 833us/step - loss: 0.0964 - accuracy: 0.9726\n",
      "Epoch 4/10\n",
      "938/938 [==============================] - 1s 836us/step - loss: 0.0734 - accuracy: 0.9776\n",
      "Epoch 5/10\n",
      "938/938 [==============================] - 1s 835us/step - loss: 0.0583 - accuracy: 0.9826\n",
      "Epoch 6/10\n",
      "938/938 [==============================] - 1s 842us/step - loss: 0.0476 - accuracy: 0.9853\n",
      "Epoch 7/10\n",
      "938/938 [==============================] - 1s 834us/step - loss: 0.0379 - accuracy: 0.9876\n",
      "Epoch 8/10\n",
      "938/938 [==============================] - 1s 833us/step - loss: 0.0302 - accuracy: 0.9903\n",
      "Epoch 9/10\n",
      "938/938 [==============================] - 1s 839us/step - loss: 0.0254 - accuracy: 0.9920\n",
      "Epoch 10/10\n",
      "938/938 [==============================] - 1s 839us/step - loss: 0.0222 - accuracy: 0.9929\n"
     ]
    }
   ],
   "source": [
    "# model.fit(train_X, train_y, epochs=10)\n",
    "history = model.fit(train_X, train_y, epochs=10, batch_size=64)\n"
   ]
  },
  {
   "cell_type": "markdown",
   "metadata": {},
   "source": [
    "## look at history\n",
    "\n",
    "looks like a dict"
   ]
  },
  {
   "cell_type": "code",
   "execution_count": 34,
   "metadata": {},
   "outputs": [
    {
     "name": "stdout",
     "output_type": "stream",
     "text": [
      "{'loss': [0.3216937184333801, 0.13640619814395905, 0.09640667587518692, 0.07335259765386581, 0.05832661688327789, 0.047559212893247604, 0.037944842129945755, 0.030203407630324364, 0.02544100023806095, 0.02216007001698017], 'accuracy': [0.9083999991416931, 0.9603000283241272, 0.9725666642189026, 0.9775500297546387, 0.9825999736785889, 0.9853000044822693, 0.987583339214325, 0.9902999997138977, 0.9920499920845032, 0.992900013923645]}\n"
     ]
    }
   ],
   "source": [
    "print(history.history)"
   ]
  },
  {
   "cell_type": "code",
   "execution_count": 35,
   "metadata": {},
   "outputs": [
    {
     "data": {
      "image/png": "[encoded data removed]",
      "text/plain": [
       "<Figure size 720x576 with 2 Axes>"
      ]
     },
     "metadata": {
      "needs_background": "light"
     },
     "output_type": "display_data"
    }
   ],
   "source": [
    "# list the number of epoch from the history objec\n",
    "x_values = np.arange(len(history.history['loss']))\n",
    "\n",
    "fig, ax1 = plt.subplots(figsize=(10,8)) \n",
    "fig.suptitle(\"Graph of Loss and Accuracy by Epochs\", fontsize=20)\n",
    "  \n",
    "ax1.set_xlabel('Epochs') \n",
    "ax1.set_ylabel('Loss', color = 'black') \n",
    "plot_1 = ax1.plot(x_values,history.history['loss'])\n",
    "ax1.tick_params(axis ='y', labelcolor = 'black') \n",
    "\n",
    "# Adding Twin Axes\n",
    "ax2 = ax1.twinx() \n",
    "  \n",
    "ax2.set_ylabel('Accuracy', color = 'red') \n",
    "plot_2 = ax2.plot(x_values,history.history['accuracy'], color='red')\n",
    "ax2.tick_params(axis ='y', labelcolor = 'red') \n",
    "\n",
    "# Show plot\n",
    "\n",
    "plt.show()"
   ]
  },
  {
   "cell_type": "markdown",
   "metadata": {
    "id": "9G6APgfaVTmI"
   },
   "source": [
    "---\n",
    "\n",
    "## Evaluate the Model"
   ]
  },
  {
   "cell_type": "markdown",
   "metadata": {
    "id": "JNAXM-NNVo_m"
   },
   "source": [
    "### Test data that is still 28x28 images"
   ]
  },
  {
   "cell_type": "code",
   "execution_count": 36,
   "metadata": {
    "colab": {
     "base_uri": "https://localhost:8080/"
    },
    "id": "gf-0kCTAVzDe",
    "outputId": "dabb259e-0608-4c61-b7b3-53abeb8ea3bb"
   },
   "outputs": [
    {
     "name": "stdout",
     "output_type": "stream",
     "text": [
      "313/313 [==============================] - 0s 663us/step - loss: 0.0799 - accuracy: 0.9775\n",
      "\n",
      "Test accuracy: 0.9775000214576721\n"
     ]
    }
   ],
   "source": [
    "test_loss, test_acc = model.evaluate(test_X,  test_y, verbose=1)\n",
    "\n",
    "print('\\nTest accuracy:', test_acc)"
   ]
  },
  {
   "cell_type": "markdown",
   "metadata": {
    "id": "nUWF-cJ-Etv2"
   },
   "source": [
    "---\n",
    "\n",
    "# Predictions"
   ]
  },
  {
   "cell_type": "markdown",
   "metadata": {
    "id": "62K7chRPfczt"
   },
   "source": [
    "### 28x28 images...."
   ]
  },
  {
   "cell_type": "code",
   "execution_count": 37,
   "metadata": {
    "id": "TaHV3Ef6faDj"
   },
   "outputs": [],
   "source": [
    "predictions = model.predict(test_X[0:100])"
   ]
  },
  {
   "cell_type": "markdown",
   "metadata": {
    "id": "RQNlCtdGfh8E"
   },
   "source": [
    "### flat images"
   ]
  },
  {
   "cell_type": "code",
   "execution_count": 38,
   "metadata": {
    "colab": {
     "base_uri": "https://localhost:8080/"
    },
    "id": "q-I-fq0ooXCA",
    "outputId": "07cf16e0-d1f6-47fa-d4fe-47a2c71bec3d"
   },
   "outputs": [
    {
     "data": {
      "text/plain": [
       "array([  0.93189913,  -6.020722  ,   2.5768292 ,   5.4899254 ,\n",
       "        -6.5891194 ,  -4.430144  , -17.646545  ,  12.343138  ,\n",
       "        -1.2271199 ,   3.5266948 ], dtype=float32)"
      ]
     },
     "execution_count": 38,
     "metadata": {},
     "output_type": "execute_result"
    }
   ],
   "source": [
    "predictions[0]"
   ]
  },
  {
   "cell_type": "markdown",
   "metadata": {},
   "source": [
    "---"
   ]
  },
  {
   "cell_type": "markdown",
   "metadata": {},
   "source": [
    "## Need a list of incorrect predictions\n",
    "\n",
    "Look through the 100 predictions find where label is not the prediction"
   ]
  },
  {
   "cell_type": "code",
   "execution_count": 39,
   "metadata": {},
   "outputs": [
    {
     "name": "stdout",
     "output_type": "stream",
     "text": [
      "7 7\n",
      "2 2\n",
      "1 1\n",
      "0 0\n",
      "4 4\n",
      "1 1\n",
      "4 4\n",
      "9 9\n",
      "5 5\n",
      "9 9\n",
      "0 0\n",
      "6 6\n",
      "9 9\n",
      "0 0\n",
      "1 1\n",
      "5 5\n",
      "9 9\n",
      "7 7\n",
      "3 3\n",
      "4 4\n",
      "9 9\n",
      "6 6\n",
      "6 6\n",
      "5 5\n",
      "4 4\n",
      "0 0\n",
      "7 7\n",
      "4 4\n",
      "0 0\n",
      "1 1\n",
      "3 3\n",
      "1 1\n",
      "3 3\n",
      "4 4\n",
      "7 7\n",
      "2 2\n",
      "7 7\n",
      "1 1\n",
      "2 2\n",
      "1 1\n",
      "1 1\n",
      "7 7\n",
      "4 4\n",
      "2 2\n",
      "3 3\n",
      "5 5\n",
      "1 1\n",
      "2 2\n",
      "4 4\n",
      "4 4\n",
      "6 6\n",
      "3 3\n",
      "5 5\n",
      "5 5\n",
      "6 6\n",
      "0 0\n",
      "4 4\n",
      "1 1\n",
      "9 9\n",
      "5 5\n",
      "7 7\n",
      "8 8\n",
      "9 9\n",
      "3 3\n",
      "7 7\n",
      "4 4\n",
      "6 6\n",
      "4 4\n",
      "3 3\n",
      "0 0\n",
      "7 7\n",
      "0 0\n",
      "2 2\n",
      "9 9\n",
      "1 1\n",
      "7 7\n",
      "3 3\n",
      "2 2\n",
      "9 9\n",
      "7 7\n",
      "7 7\n",
      "6 6\n",
      "2 2\n",
      "7 7\n",
      "8 8\n",
      "4 4\n",
      "7 7\n",
      "3 3\n",
      "6 6\n",
      "1 1\n",
      "3 3\n",
      "6 6\n",
      "9 9\n",
      "3 3\n",
      "1 1\n",
      "4 4\n",
      "1 1\n",
      "7 7\n",
      "6 6\n",
      "9 9\n"
     ]
    }
   ],
   "source": [
    "wrong = []\n",
    "for i in range(len(predictions)):\n",
    "    print(np.argmax(predictions[i]),test_y[i])"
   ]
  },
  {
   "cell_type": "markdown",
   "metadata": {},
   "source": [
    "## Well - the first 100 are correct\n",
    "\n",
    "So - we need to look more...."
   ]
  },
  {
   "cell_type": "code",
   "execution_count": 40,
   "metadata": {},
   "outputs": [],
   "source": [
    "all_predictions = model.predict(test_X)"
   ]
  },
  {
   "cell_type": "markdown",
   "metadata": {},
   "source": [
    "## Find all of the wrong classifications"
   ]
  },
  {
   "cell_type": "code",
   "execution_count": 41,
   "metadata": {},
   "outputs": [],
   "source": [
    "wrong = []\n",
    "for i in range(len(test_X)):\n",
    "    predict = np.argmax(all_predictions[i])\n",
    "    label = test_y[i]\n",
    "    if(predict != label):\n",
    "        # print(\"Found index[\" + str(i) + \"] to have prediction \" + str(predict) + \" and a label of \" + str(label))\n",
    "        wrong.append(i)"
   ]
  },
  {
   "cell_type": "code",
   "execution_count": 42,
   "metadata": {},
   "outputs": [
    {
     "name": "stdout",
     "output_type": "stream",
     "text": [
      "[115, 247, 321, 444, 445, 582, 583, 613, 619, 691, 707, 717, 720, 810, 813, 846, 947, 951, 956, 1003, 1014, 1032, 1039, 1112, 1156, 1178, 1224, 1226, 1242, 1247, 1260, 1299, 1319, 1328, 1393, 1395, 1494, 1496, 1500, 1522, 1527, 1530, 1549, 1553, 1609, 1611, 1621, 1681, 1737, 1790, 1800, 1868, 1901, 1941, 1952, 1955, 1984, 2004, 2016, 2024, 2053, 2070, 2098, 2109, 2135, 2182, 2224, 2266, 2272, 2280, 2291, 2293, 2299, 2329, 2339, 2369, 2386, 2488, 2526, 2607, 2610, 2618, 2648, 2654, 2730, 2810, 2877, 2921, 2939, 2952, 3073, 3115, 3117, 3172, 3225, 3388, 3405, 3422, 3451, 3503, 3520, 3549, 3558, 3559, 3567, 3604, 3662, 3681, 3718, 3727, 3780, 3796, 3808, 3818, 3838, 3902, 3906, 3941, 3943, 3985, 4065, 4078, 4156, 4163, 4176, 4199, 4201, 4207, 4248, 4289, 4350, 4369, 4374, 4382, 4425, 4497, 4536, 4548, 4551, 4567, 4751, 4807, 4823, 4880, 4942, 4966, 4990, 5078, 5165, 5265, 5331, 5409, 5457, 5564, 5600, 5642, 5676, 5734, 5759, 5835, 5887, 5936, 5937, 5955, 5972, 5973, 6011, 6023, 6045, 6059, 6071, 6091, 6174, 6347, 6400, 6532, 6555, 6558, 6574, 6597, 6625, 6651, 6755, 6783, 7268, 7434, 7492, 7847, 7849, 7856, 7921, 7928, 8094, 8243, 8246, 8279, 8311, 8325, 8410, 8502, 8520, 8527, 8863, 9009, 9015, 9019, 9024, 9280, 9587, 9634, 9664, 9669, 9700, 9729, 9742, 9745, 9749, 9768, 9770, 9792, 9808, 9839, 9867, 9980, 9982]\n"
     ]
    }
   ],
   "source": [
    "print(wrong)"
   ]
  },
  {
   "cell_type": "markdown",
   "metadata": {},
   "source": [
    "---"
   ]
  },
  {
   "cell_type": "markdown",
   "metadata": {},
   "source": [
    "## Now let's see what we missed"
   ]
  },
  {
   "cell_type": "markdown",
   "metadata": {},
   "source": [
    "## A simple mockup of the final graph"
   ]
  },
  {
   "cell_type": "code",
   "execution_count": 43,
   "metadata": {
    "colab": {
     "base_uri": "https://localhost:8080/",
     "height": 351
    },
    "id": "5SwVeBYuo4RD",
    "outputId": "f472417e-2884-47dd-cf9b-c0a927431b05"
   },
   "outputs": [
    {
     "data": {
      "image/png": "[encoded data removed]",
      "text/plain": [
       "<Figure size 720x360 with 2 Axes>"
      ]
     },
     "metadata": {
      "needs_background": "light"
     },
     "output_type": "display_data"
    }
   ],
   "source": [
    "observation = 18\n",
    "nums = [0,1,2,3,4,5,6,7,8,9]\n",
    "\n",
    "fig, ax = plt.subplots(1,2, figsize=(10,5))\n",
    "ax[0].imshow(test_X[observation], cmap=plt.cm.binary)\n",
    "ax[0].grid(False)\n",
    "ax[0].set_xticks([])\n",
    "ax[0].set_yticks([])\n",
    "ax[0].set_xlabel('This is a ' + str(test_y[observation]))\n",
    "ax[1].bar(nums,all_predictions[observation])\n",
    "ax[1].set_xticks(nums)\n",
    "ax[1].set_xlabel('Number')\n",
    "ax[1].set_ylabel('Porbability')\n",
    "plt.show()\n"
   ]
  },
  {
   "cell_type": "code",
   "execution_count": 44,
   "metadata": {},
   "outputs": [],
   "source": [
    "def plot_classified_image(ax, img, label, classification):\n",
    "    plt.xticks([])\n",
    "    plt.yticks([])\n",
    "    plt.grid(False)\n",
    "    plt.imshow(img, cmap=plt.cm.binary)\n",
    "    predicted = np.argmax(classification)\n",
    "    if predicted == label:\n",
    "        color = 'black'\n",
    "    else:\n",
    "        color = 'r'\n",
    "\n",
    "    plt.xlabel(\"Predicted : {}  Confidence : {:2.0f}  Actual : {}\".format(predicted, np.max(classification), label), color=color)\n",
    "    # plt.xlabel(\"[zzzzz]\")\n",
    "    return ax"
   ]
  },
  {
   "cell_type": "code",
   "execution_count": 45,
   "metadata": {},
   "outputs": [],
   "source": [
    "# may need to fix this when we have labels for the category names\n",
    "def plot_prediction(ax, label, prediction):\n",
    "    number_of_classes = len(prediction)\n",
    "    x_values = np.arange(number_of_classes)\n",
    "    predicted = np.argmax(prediction)\n",
    "    ax.bar(x_values,prediction, alpha=0.75)\n",
    "    ax.bar(predicted, prediction[predicted], color='r', label='prediction')\n",
    "    ax.bar(label,prediction[label], color='g', label='actual')\n",
    "    ax.set_xticks(x_values)\n",
    "    ax.set_xlabel('Number')\n",
    "    ax.set_ylabel('Porbability')\n",
    "    ax.legend()"
   ]
  },
  {
   "cell_type": "code",
   "execution_count": 46,
   "metadata": {},
   "outputs": [
    {
     "data": {
      "image/png": "[encoded data removed]",
      "text/plain": [
       "<Figure size 864x432 with 2 Axes>"
      ]
     },
     "metadata": {
      "needs_background": "light"
     },
     "output_type": "display_data"
    }
   ],
   "source": [
    "obs = 17\n",
    "\n",
    "fig, ax = plt.subplots(1,2, figsize=(12,6))\n",
    "plot_classified_image(plt.subplot(1,2,1), test_X[obs], test_y[obs], all_predictions[obs])\n",
    "plot_prediction(plt.subplot(1,2,2), test_y[obs], all_predictions[obs])\n",
    "plt.show()"
   ]
  },
  {
   "cell_type": "code",
   "execution_count": 47,
   "metadata": {},
   "outputs": [],
   "source": [
    "def graph_predictions(images, labels, predictions, rows=1, cols=1, start=0, zoom=2):\n",
    "    n_plots = rows * cols * 2\n",
    "    fig, ax = plt.subplots(rows,cols * 2,figsize=(cols * 2 * zoom, rows * zoom))\n",
    "    plt.subplots_adjust(left=0.1,\n",
    "                    bottom=0.1, \n",
    "                    right=0.9, \n",
    "                    top=0.9, \n",
    "                    wspace=0.4, \n",
    "                    hspace=0.4)\n",
    "    for n in range(n_plots):\n",
    "        #plt.subplot(rows, cols * 2, n+1)\n",
    "        img_index = (n // 2) + start\n",
    "        if((n%2)==0):\n",
    "            plot_classified_image(plt.subplot(rows, cols * 2, n+1), images[img_index], labels[img_index], predictions[img_index])\n",
    "        else:\n",
    "            plot_prediction(plt.subplot(rows, cols * 2, n+1), labels[img_index], predictions[img_index])\n",
    "    plt.show()"
   ]
  },
  {
   "cell_type": "code",
   "execution_count": 48,
   "metadata": {},
   "outputs": [
    {
     "data": {
      "image/png": "[encoded data removed]",
      "text/plain": [
       "<Figure size 1728x1152 with 24 Axes>"
      ]
     },
     "metadata": {
      "needs_background": "light"
     },
     "output_type": "display_data"
    }
   ],
   "source": [
    "graph_predictions(test_X, test_y, all_predictions, start=240, rows=4, cols=3, zoom=4)"
   ]
  },
  {
   "cell_type": "markdown",
   "metadata": {
    "id": "_Dl-Mz6mky2j"
   },
   "source": [
    "## Save the Model"
   ]
  },
  {
   "cell_type": "code",
   "execution_count": 50,
   "metadata": {
    "id": "WVbRHnpRk2Cr"
   },
   "outputs": [],
   "source": [
    "model.save('HandWriting_model.h5')"
   ]
  }
 ],
 "metadata": {
  "colab": {
   "collapsed_sections": [],
   "name": "HandWriting.ipynb",
   "provenance": []
  },
  "kernelspec": {
   "display_name": "Python 3 (ipykernel)",
   "language": "python",
   "name": "python3"
  },
  "language_info": {
   "codemirror_mode": {
    "name": "ipython",
    "version": 3
   },
   "file_extension": ".py",
   "mimetype": "text/x-python",
   "name": "python",
   "nbconvert_exporter": "python",
   "pygments_lexer": "ipython3",
   "version": "3.8.10"
  }
 },
 "nbformat": 4,
 "nbformat_minor": 4
}
