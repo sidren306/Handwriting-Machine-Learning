{
 "cells": [
  {
   "cell_type": "markdown",
   "metadata": {
    "id": "CfkV-AGm2_iV"
   },
   "source": [
    "# Handwriting Demo\n",
    "\n",
    "---"
   ]
  },
  {
   "cell_type": "markdown",
   "metadata": {
    "id": "A6PTryKL33kC"
   },
   "source": [
    "## Some links Mr Belser was working through\n",
    "\n",
    "https://www.tensorflow.org/tutorials/keras/classification\n",
    "\n",
    "https://aigeekprogrammer.com/keras-python-mnist-handwritten-digit-recognition/\n",
    "\n",
    "https://www.youtube.com/watch?v=aircAruvnKk"
   ]
  },
  {
   "cell_type": "markdown",
   "metadata": {
    "id": "Ow7UjLYg3FvI"
   },
   "source": [
    "## All imports"
   ]
  },
  {
   "cell_type": "code",
   "execution_count": 1,
   "metadata": {
    "id": "logXght52p1N"
   },
   "outputs": [
    {
     "name": "stderr",
     "output_type": "stream",
     "text": [
      "2022-03-18 14:23:24.204797: W tensorflow/stream_executor/platform/default/dso_loader.cc:64] Could not load dynamic library 'libcudart.so.11.0'; dlerror: libcudart.so.11.0: cannot open shared object file: No such file or directory\n",
      "2022-03-18 14:23:24.204819: I tensorflow/stream_executor/cuda/cudart_stub.cc:29] Ignore above cudart dlerror if you do not have a GPU set up on your machine.\n"
     ]
    }
   ],
   "source": [
    "import tensorflow as tf\n",
    "from keras.datasets import mnist\n",
    "import numpy as np\n",
    "import matplotlib\n",
    "import matplotlib.pyplot as plt"
   ]
  },
  {
   "cell_type": "markdown",
   "metadata": {},
   "source": [
    "## Do I have any GPUs"
   ]
  },
  {
   "cell_type": "code",
   "execution_count": 2,
   "metadata": {},
   "outputs": [
    {
     "name": "stdout",
     "output_type": "stream",
     "text": [
      "Num GPUs Available:  0\n"
     ]
    },
    {
     "name": "stderr",
     "output_type": "stream",
     "text": [
      "2022-03-18 14:23:27.987919: W tensorflow/stream_executor/platform/default/dso_loader.cc:64] Could not load dynamic library 'libcuda.so.1'; dlerror: libcuda.so.1: cannot open shared object file: No such file or directory\n",
      "2022-03-18 14:23:27.987940: W tensorflow/stream_executor/cuda/cuda_driver.cc:269] failed call to cuInit: UNKNOWN ERROR (303)\n",
      "2022-03-18 14:23:27.987955: I tensorflow/stream_executor/cuda/cuda_diagnostics.cc:156] kernel driver does not appear to be running on this host (6632be3b01a6): /proc/driver/nvidia/version does not exist\n"
     ]
    }
   ],
   "source": [
    "print(\"Num GPUs Available: \", len(tf.config.list_physical_devices('GPU')))"
   ]
  },
  {
   "cell_type": "markdown",
   "metadata": {
    "id": "0i9rHEjI3KIZ"
   },
   "source": [
    "## Versions"
   ]
  },
  {
   "cell_type": "code",
   "execution_count": 3,
   "metadata": {
    "colab": {
     "base_uri": "https://localhost:8080/"
    },
    "id": "B1NuRdTE236S",
    "outputId": "b53d4080-d889-434e-86cc-33ec08f67d20"
   },
   "outputs": [
    {
     "name": "stdout",
     "output_type": "stream",
     "text": [
      "Tensorflow ver :\t2.7.0\n",
      "Numpy ver :\t\t1.17.4\n",
      "matplotlib :\t\t3.1.2\n"
     ]
    }
   ],
   "source": [
    "print(\"Tensorflow ver :\\t\" + tf.__version__)\n",
    "print(\"Numpy ver :\\t\\t\" + np.__version__)\n",
    "print(\"matplotlib :\\t\\t\" + matplotlib.__version__)"
   ]
  },
  {
   "cell_type": "markdown",
   "metadata": {
    "id": "D2rSqzaI3nfJ"
   },
   "source": [
    "## Read in the data"
   ]
  },
  {
   "cell_type": "markdown",
   "metadata": {},
   "source": [
    "## Describe\n",
    "\n",
    "- X is the image\n",
    "- y is the label"
   ]
  },
  {
   "cell_type": "code",
   "execution_count": 4,
   "metadata": {
    "id": "zGpx9mWe3sBV"
   },
   "outputs": [],
   "source": [
    "(train_X, train_y), (test_X, test_y) = mnist.load_data()"
   ]
  },
  {
   "cell_type": "markdown",
   "metadata": {
    "id": "VSM_HIhipuSX"
   },
   "source": [
    "## What is the shape of the data\n",
    "\n",
    "- `train_X` contains all 60000 of the 28x28 images \n",
    "- `train_Y` contains all 60000 clasifications of those `train_X` images \n",
    "- `test_X` contains all 10000 reserved 28x28 images for testing\n",
    "- `test_Y` contains all 10000 reserved clasifications of those `test_X` images "
   ]
  },
  {
   "cell_type": "code",
   "execution_count": 5,
   "metadata": {
    "colab": {
     "base_uri": "https://localhost:8080/"
    },
    "id": "vcIIYN2S4Dgx",
    "outputId": "4ee1e192-e2ac-42a6-8081-cbd1aff2fa60"
   },
   "outputs": [
    {
     "name": "stdout",
     "output_type": "stream",
     "text": [
      "train_X:\t(60000, 28, 28)\n",
      "train_y:\t(60000,)\n",
      "test_X:\t\t(10000, 28, 28)\n",
      "test_y:\t\t(10000,)\n"
     ]
    }
   ],
   "source": [
    "print('train_X:\\t' + str(train_X.shape))\n",
    "print('train_y:\\t' + str(train_y.shape))\n",
    "print('test_X:\\t\\t'  + str(test_X.shape))\n",
    "print('test_y:\\t\\t'  + str(test_y.shape))"
   ]
  },
  {
   "cell_type": "markdown",
   "metadata": {
    "id": "uNYlKc6fqi9N"
   },
   "source": [
    "## What does an image look like?\n",
    "\n",
    "- Data\n",
    "- Display"
   ]
  },
  {
   "cell_type": "markdown",
   "metadata": {},
   "source": [
    "### What do the data look like for one image"
   ]
  },
  {
   "cell_type": "code",
   "execution_count": 6,
   "metadata": {
    "colab": {
     "base_uri": "https://localhost:8080/"
    },
    "id": "GQSDf5ymwuco",
    "outputId": "47dcab6c-39eb-4334-ed83-a2ebb7c19e4c"
   },
   "outputs": [],
   "source": [
    "# print(train_X[0])"
   ]
  },
  {
   "cell_type": "markdown",
   "metadata": {
    "id": "VUNT40zFvv1k"
   },
   "source": [
    "### The classifications"
   ]
  },
  {
   "cell_type": "code",
   "execution_count": 8,
   "metadata": {
    "colab": {
     "base_uri": "https://localhost:8080/"
    },
    "id": "YdtrmNTZv1s6",
    "outputId": "90ba4432-9b6e-4d88-858b-234e19fe8728"
   },
   "outputs": [
    {
     "name": "stdout",
     "output_type": "stream",
     "text": [
      "Image 0 is classified as a 5\n",
      "Image 1 is classified as a 0\n",
      "Image 2 is classified as a 4\n",
      "Image 3 is classified as a 1\n",
      "Image 4 is classified as a 9\n",
      "Image 5 is classified as a 2\n",
      "Image 6 is classified as a 1\n"
     ]
    }
   ],
   "source": [
    "for n in range(n_show):\n",
    "  print(\"Image \" + str(n) + \" is classified as a \" + str(train_y[n]))"
   ]
  },
  {
   "cell_type": "markdown",
   "metadata": {
    "id": "uUSDqgytw7YF"
   },
   "source": [
    "## Prepare the data for training\n",
    "\n",
    "Need to convert the data to a domain of 0->1"
   ]
  },
  {
   "cell_type": "code",
   "execution_count": 9,
   "metadata": {
    "id": "XMC6d68TxIAO"
   },
   "outputs": [],
   "source": [
    "train_X = train_X /255\n",
    "test_X = test_X / 255"
   ]
  },
  {
   "cell_type": "code",
   "execution_count": 10,
   "metadata": {},
   "outputs": [],
   "source": [
    "# train_X[0]"
   ]
  },
  {
   "cell_type": "markdown",
   "metadata": {},
   "source": [
    "## Show a grid of images with label"
   ]
  },
  {
   "cell_type": "markdown",
   "metadata": {},
   "source": [
    "### The function to _graph it_"
   ]
  },
  {
   "cell_type": "code",
   "execution_count": 12,
   "metadata": {},
   "outputs": [],
   "source": [
    "def graphit(images, labels, rows=1, cols=1, start=0, zoom=2):\n",
    "  n_images = rows * cols\n",
    "  fig, ax = plt.subplots(rows,cols,figsize=(cols * zoom, rows * zoom))\n",
    "  for n in range(n_images):\n",
    "    plt.subplot(rows, cols, n+1)\n",
    "    plt.xticks([])\n",
    "    plt.yticks([])\n",
    "    plt.grid(False)\n",
    "    plt.imshow(images[n+start], cmap=plt.cm.binary)\n",
    "    # plt.imshow(images[n])\n",
    "    plt.xlabel(\"[\" + str(n+start) + \"] is a : \" + str(labels[n+start]))\n",
    "  plt.show()\n"
   ]
  },
  {
   "cell_type": "markdown",
   "metadata": {},
   "source": [
    "### Now set the parameters\n",
    "\n",
    "- image array\n",
    "- label array\n",
    "- rows\n",
    "- columns\n",
    "- zoom parameter"
   ]
  },
  {
   "cell_type": "code",
   "execution_count": 13,
   "metadata": {},
   "outputs": [
    {
     "data": {
      "image/png": "[encoded data removed]",
      "text/plain": [
       "<Figure size 972x648 with 24 Axes>"
      ]
     },
     "metadata": {},
     "output_type": "display_data"
    }
   ],
   "source": [
    "graphit(test_X, test_y,4,6, 200, zoom=2.25)"
   ]
  },
  {
   "cell_type": "markdown",
   "metadata": {
    "id": "KXGtk8bU4Jko"
   },
   "source": [
    "# Can I get a model to work?"
   ]
  },
  {
   "cell_type": "markdown",
   "metadata": {
    "id": "1vkObX-XSd2g"
   },
   "source": [
    "### Attempted model from the 3 blue 1 brown video\n",
    "\n",
    "https://www.youtube.com/watch?v=aircAruvnKk"
   ]
  },
  {
   "cell_type": "code",
   "execution_count": 14,
   "metadata": {
    "id": "0cnutOCkSvdV"
   },
   "outputs": [
    {
     "name": "stderr",
     "output_type": "stream",
     "text": [
      "2022-03-18 14:24:43.823935: I tensorflow/core/platform/cpu_feature_guard.cc:151] This TensorFlow binary is optimized with oneAPI Deep Neural Network Library (oneDNN) to use the following CPU instructions in performance-critical operations:  AVX2 FMA\n",
      "To enable them in other operations, rebuild TensorFlow with the appropriate compiler flags.\n"
     ]
    }
   ],
   "source": [
    "## Uncomment to use it\n",
    "#\n",
    "# https://www.youtube.com/watch?v=aircAruvnKk\n",
    "#\n",
    "\n",
    "model = tf.keras.Sequential([\n",
    "    tf.keras.layers.Flatten(input_shape=(28, 28)),\n",
    "    tf.keras.layers.Dense(128, activation='relu'),\n",
    "    tf.keras.layers.Dense(16, activation='relu'),\n",
    "    tf.keras.layers.Dense(10)\n",
    "])\n"
   ]
  },
  {
   "cell_type": "code",
   "execution_count": 15,
   "metadata": {
    "colab": {
     "base_uri": "https://localhost:8080/"
    },
    "id": "IT1RnEcBkR7R",
    "outputId": "b5bef242-575e-4729-fac2-63e060816ab3"
   },
   "outputs": [
    {
     "name": "stdout",
     "output_type": "stream",
     "text": [
      "Model: \"sequential\"\n",
      "_________________________________________________________________\n",
      " Layer (type)                Output Shape              Param #   \n",
      "=================================================================\n",
      " flatten (Flatten)           (None, 784)               0         \n",
      "                                                                 \n",
      " dense (Dense)               (None, 128)               100480    \n",
      "                                                                 \n",
      " dense_1 (Dense)             (None, 16)                2064      \n",
      "                                                                 \n",
      " dense_2 (Dense)             (None, 10)                170       \n",
      "                                                                 \n",
      "=================================================================\n",
      "Total params: 102,714\n",
      "Trainable params: 102,714\n",
      "Non-trainable params: 0\n",
      "_________________________________________________________________\n"
     ]
    }
   ],
   "source": [
    "# Display the model's architecture\n",
    "model.summary()"
   ]
  },
  {
   "cell_type": "markdown",
   "metadata": {
    "id": "z1BUFZWQUXts"
   },
   "source": [
    "### Compile the model"
   ]
  },
  {
   "cell_type": "code",
   "execution_count": 16,
   "metadata": {
    "id": "_A6OhY1aUSOz"
   },
   "outputs": [],
   "source": [
    "model.compile(optimizer='adam',\n",
    "              loss=tf.keras.losses.SparseCategoricalCrossentropy(from_logits=True),\n",
    "              metrics=['accuracy'])\n"
   ]
  },
  {
   "cell_type": "markdown",
   "metadata": {
    "id": "pS1NQjA_UhY8"
   },
   "source": [
    "### Train"
   ]
  },
  {
   "cell_type": "code",
   "execution_count": 17,
   "metadata": {
    "colab": {
     "base_uri": "https://localhost:8080/"
    },
    "id": "fCwe3uuAUjVB",
    "outputId": "c140fe68-b86b-490c-ed1f-20d50d750108"
   },
   "outputs": [
    {
     "name": "stdout",
     "output_type": "stream",
     "text": [
      "Epoch 1/10\n",
      "938/938 [==============================] - 1s 847us/step - loss: 0.3264 - accuracy: 0.9056\n",
      "Epoch 2/10\n",
      "938/938 [==============================] - 1s 846us/step - loss: 0.1318 - accuracy: 0.9611\n",
      "Epoch 3/10\n",
      "938/938 [==============================] - 1s 841us/step - loss: 0.0937 - accuracy: 0.9720\n",
      "Epoch 4/10\n",
      "938/938 [==============================] - 1s 844us/step - loss: 0.0720 - accuracy: 0.9783\n",
      "Epoch 5/10\n",
      "938/938 [==============================] - 1s 837us/step - loss: 0.0575 - accuracy: 0.9825\n",
      "Epoch 6/10\n",
      "938/938 [==============================] - 1s 845us/step - loss: 0.0465 - accuracy: 0.9856\n",
      "Epoch 7/10\n",
      "938/938 [==============================] - 1s 833us/step - loss: 0.0388 - accuracy: 0.9879\n",
      "Epoch 8/10\n",
      "938/938 [==============================] - 1s 841us/step - loss: 0.0317 - accuracy: 0.9906\n",
      "Epoch 9/10\n",
      "938/938 [==============================] - 1s 846us/step - loss: 0.0261 - accuracy: 0.9920\n",
      "Epoch 10/10\n",
      "938/938 [==============================] - 1s 844us/step - loss: 0.0234 - accuracy: 0.9926\n"
     ]
    }
   ],
   "source": [
    "# model.fit(train_X, train_y, epochs=10)\n",
    "history = model.fit(train_X, train_y, epochs=10, batch_size=64)\n"
   ]
  },
  {
   "cell_type": "markdown",
   "metadata": {},
   "source": [
    "## look at history\n",
    "\n",
    "looks like a dict"
   ]
  },
  {
   "cell_type": "code",
   "execution_count": 18,
   "metadata": {},
   "outputs": [
    {
     "name": "stdout",
     "output_type": "stream",
     "text": [
      "{'loss': [0.3264037072658539, 0.13179399073123932, 0.09366566687822342, 0.07204461842775345, 0.05750330165028572, 0.04647577553987503, 0.03878604993224144, 0.031657811254262924, 0.026124440133571625, 0.023365110158920288], 'accuracy': [0.9055666923522949, 0.9611333608627319, 0.9720333218574524, 0.9782833456993103, 0.9825166463851929, 0.9855666756629944, 0.9878833293914795, 0.9905666708946228, 0.9920333623886108, 0.9925833344459534]}\n"
     ]
    }
   ],
   "source": [
    "print(history.history)"
   ]
  },
  {
   "cell_type": "code",
   "execution_count": 21,
   "metadata": {},
   "outputs": [
    {
     "data": {
      "image/png": "[encoded data removed]",
      "text/plain": [
       "<Figure size 720x576 with 2 Axes>"
      ]
     },
     "metadata": {
      "needs_background": "light"
     },
     "output_type": "display_data"
    }
   ],
   "source": [
    "# list the number of epoch from the history objec\n",
    "x_values = np.arange(len(history.history['loss']))\n",
    "\n",
    "fig, ax1 = plt.subplots(figsize=(10,8)) \n",
    "fig.suptitle(\"Graph of Loss and Accuracy by Epochs\", fontsize=20)\n",
    "  \n",
    "ax1.set_xlabel('Epochs') \n",
    "ax1.set_ylabel('Loss', color = 'black') \n",
    "plot_1 = ax1.plot(x_values,history.history['loss'])\n",
    "ax1.tick_params(axis ='y', labelcolor = 'black') \n",
    "\n",
    "# Adding Twin Axes\n",
    "ax2 = ax1.twinx() \n",
    "  \n",
    "ax2.set_ylabel('Accuracy', color = 'red') \n",
    "plot_2 = ax2.plot(x_values,history.history['accuracy'], color='red')\n",
    "ax2.tick_params(axis ='y', labelcolor = 'red') \n",
    "\n",
    "# Show plot\n",
    "\n",
    "plt.show()"
   ]
  },
  {
   "cell_type": "markdown",
   "metadata": {
    "id": "9G6APgfaVTmI"
   },
   "source": [
    "---\n",
    "\n",
    "## Evaluate the Model"
   ]
  },
  {
   "cell_type": "markdown",
   "metadata": {
    "id": "JNAXM-NNVo_m"
   },
   "source": [
    "### Test data that is still 28x28 images"
   ]
  },
  {
   "cell_type": "code",
   "execution_count": 22,
   "metadata": {
    "colab": {
     "base_uri": "https://localhost:8080/"
    },
    "id": "gf-0kCTAVzDe",
    "outputId": "dabb259e-0608-4c61-b7b3-53abeb8ea3bb"
   },
   "outputs": [
    {
     "name": "stdout",
     "output_type": "stream",
     "text": [
      "313/313 [==============================] - 0s 706us/step - loss: 0.1238 - accuracy: 0.9695\n",
      "\n",
      "Test accuracy: 0.9695000052452087\n"
     ]
    }
   ],
   "source": [
    "test_loss, test_acc = model.evaluate(test_X,  test_y, verbose=1)\n",
    "\n",
    "print('\\nTest accuracy:', test_acc)"
   ]
  },
  {
   "cell_type": "markdown",
   "metadata": {
    "id": "nUWF-cJ-Etv2"
   },
   "source": [
    "---\n",
    "\n",
    "# Predictions"
   ]
  },
  {
   "cell_type": "markdown",
   "metadata": {
    "id": "62K7chRPfczt"
   },
   "source": [
    "### 28x28 images...."
   ]
  },
  {
   "cell_type": "code",
   "execution_count": 23,
   "metadata": {
    "id": "TaHV3Ef6faDj"
   },
   "outputs": [],
   "source": [
    "predictions = model.predict(test_X[0:100])"
   ]
  },
  {
   "cell_type": "markdown",
   "metadata": {
    "id": "RQNlCtdGfh8E"
   },
   "source": [
    "### flat images"
   ]
  },
  {
   "cell_type": "code",
   "execution_count": 25,
   "metadata": {
    "colab": {
     "base_uri": "https://localhost:8080/"
    },
    "id": "q-I-fq0ooXCA",
    "outputId": "07cf16e0-d1f6-47fa-d4fe-47a2c71bec3d"
   },
   "outputs": [
    {
     "data": {
      "text/plain": [
       "array([ -6.726437 ,  -2.4310308,  -3.4214337,   2.0201807, -14.980846 ,\n",
       "        -3.1328788, -10.948587 ,  12.518365 ,  -5.5049367,  -3.4071188],\n",
       "      dtype=float32)"
      ]
     },
     "execution_count": 25,
     "metadata": {},
     "output_type": "execute_result"
    }
   ],
   "source": [
    "predictions[0]"
   ]
  },
  {
   "cell_type": "markdown",
   "metadata": {},
   "source": [
    "---"
   ]
  },
  {
   "cell_type": "markdown",
   "metadata": {},
   "source": [
    "## Need a list of incorrect predictions\n",
    "\n",
    "Look through the 100 predictions find where label is not the prediction"
   ]
  },
  {
   "cell_type": "code",
   "execution_count": 26,
   "metadata": {},
   "outputs": [
    {
     "name": "stdout",
     "output_type": "stream",
     "text": [
      "7 7\n",
      "2 2\n",
      "1 1\n",
      "0 0\n",
      "4 4\n",
      "1 1\n",
      "4 4\n",
      "9 9\n",
      "6 5\n",
      "9 9\n",
      "0 0\n",
      "6 6\n",
      "9 9\n",
      "0 0\n",
      "1 1\n",
      "5 5\n",
      "9 9\n",
      "7 7\n",
      "8 3\n",
      "4 4\n",
      "9 9\n",
      "6 6\n",
      "6 6\n",
      "5 5\n",
      "4 4\n",
      "0 0\n",
      "7 7\n",
      "4 4\n",
      "0 0\n",
      "1 1\n",
      "3 3\n",
      "1 1\n",
      "3 3\n",
      "4 4\n",
      "7 7\n",
      "2 2\n",
      "7 7\n",
      "1 1\n",
      "2 2\n",
      "1 1\n",
      "1 1\n",
      "7 7\n",
      "4 4\n",
      "2 2\n",
      "3 3\n",
      "5 5\n",
      "1 1\n",
      "2 2\n",
      "4 4\n",
      "4 4\n",
      "6 6\n",
      "3 3\n",
      "5 5\n",
      "5 5\n",
      "6 6\n",
      "0 0\n",
      "4 4\n",
      "1 1\n",
      "9 9\n",
      "5 5\n",
      "7 7\n",
      "8 8\n",
      "9 9\n",
      "3 3\n",
      "7 7\n",
      "4 4\n",
      "6 6\n",
      "4 4\n",
      "3 3\n",
      "0 0\n",
      "7 7\n",
      "0 0\n",
      "2 2\n",
      "9 9\n",
      "1 1\n",
      "7 7\n",
      "3 3\n",
      "2 2\n",
      "9 9\n",
      "7 7\n",
      "7 7\n",
      "6 6\n",
      "2 2\n",
      "7 7\n",
      "8 8\n",
      "4 4\n",
      "7 7\n",
      "3 3\n",
      "6 6\n",
      "1 1\n",
      "3 3\n",
      "6 6\n",
      "9 9\n",
      "3 3\n",
      "1 1\n",
      "4 4\n",
      "1 1\n",
      "7 7\n",
      "6 6\n",
      "9 9\n"
     ]
    }
   ],
   "source": [
    "wrong = []\n",
    "for i in range(len(predictions)):\n",
    "    print(np.argmax(predictions[i]),test_y[i])"
   ]
  },
  {
   "cell_type": "markdown",
   "metadata": {},
   "source": [
    "## Well - the first 100 are correct\n",
    "\n",
    "So - we need to look more...."
   ]
  },
  {
   "cell_type": "code",
   "execution_count": 29,
   "metadata": {},
   "outputs": [],
   "source": [
    "all_predictions = model.predict(test_X)"
   ]
  },
  {
   "cell_type": "markdown",
   "metadata": {},
   "source": [
    "## Find all of the wrong classifications"
   ]
  },
  {
   "cell_type": "code",
   "execution_count": 30,
   "metadata": {},
   "outputs": [],
   "source": [
    "wrong = []\n",
    "for i in range(len(test_X)):\n",
    "    predict = np.argmax(all_predictions[i])\n",
    "    label = test_y[i]\n",
    "    if(predict != label):\n",
    "        # print(\"Found index[\" + str(i) + \"] to have prediction \" + str(predict) + \" and a label of \" + str(label))\n",
    "        wrong.append(i)"
   ]
  },
  {
   "cell_type": "code",
   "execution_count": 31,
   "metadata": {},
   "outputs": [
    {
     "name": "stdout",
     "output_type": "stream",
     "text": [
      "[8, 18, 104, 151, 193, 241, 247, 264, 321, 340, 359, 394, 448, 479, 495, 582, 583, 619, 659, 691, 720, 813, 874, 900, 951, 956, 1003, 1014, 1039, 1107, 1112, 1114, 1156, 1178, 1182, 1192, 1226, 1232, 1242, 1247, 1272, 1281, 1289, 1299, 1319, 1326, 1328, 1356, 1378, 1393, 1395, 1522, 1527, 1530, 1549, 1553, 1621, 1641, 1681, 1709, 1751, 1754, 1790, 1901, 1913, 1941, 1952, 2016, 2018, 2035, 2043, 2068, 2109, 2118, 2129, 2162, 2182, 2185, 2189, 2224, 2237, 2266, 2280, 2291, 2292, 2293, 2299, 2329, 2333, 2369, 2387, 2406, 2414, 2426, 2454, 2488, 2526, 2573, 2582, 2597, 2607, 2635, 2648, 2654, 2670, 2720, 2743, 2760, 2769, 2810, 2845, 2854, 2863, 2915, 2921, 2939, 2979, 2995, 3005, 3060, 3073, 3117, 3225, 3240, 3441, 3503, 3520, 3558, 3565, 3567, 3575, 3597, 3776, 3780, 3796, 3808, 3818, 3821, 3838, 3850, 3853, 3869, 3893, 3902, 3906, 3926, 3941, 3943, 3946, 3950, 3962, 3970, 3985, 4000, 4065, 4078, 4154, 4156, 4163, 4174, 4201, 4224, 4248, 4255, 4259, 4271, 4289, 4294, 4314, 4315, 4321, 4359, 4360, 4363, 4369, 4405, 4425, 4477, 4480, 4487, 4497, 4534, 4536, 4551, 4601, 4633, 4699, 4761, 4807, 4823, 4846, 4880, 4918, 4943, 4956, 5165, 5331, 5450, 5457, 5634, 5642, 5734, 5749, 5757, 5769, 5858, 5874, 5887, 5937, 5945, 5955, 5972, 5973, 5982, 5985, 5997, 6009, 6011, 6023, 6028, 6045, 6046, 6059, 6065, 6071, 6091, 6157, 6166, 6172, 6173, 6400, 6426, 6443, 6532, 6558, 6559, 6560, 6571, 6572, 6574, 6576, 6577, 6597, 6621, 6625, 6651, 6718, 6735, 6783, 6784, 6817, 6847, 7081, 7107, 7216, 7432, 7434, 7511, 7580, 7732, 7902, 7915, 7921, 7991, 8062, 8091, 8094, 8255, 8325, 8383, 8426, 8519, 8523, 8557, 9009, 9015, 9019, 9024, 9382, 9422, 9427, 9517, 9530, 9587, 9634, 9664, 9679, 9692, 9700, 9729, 9733, 9740, 9745, 9749, 9770, 9792, 9808, 9811, 9839, 9867, 9893, 9904, 9944, 9975, 9992]\n"
     ]
    }
   ],
   "source": [
    "print(wrong)"
   ]
  },
  {
   "cell_type": "markdown",
   "metadata": {},
   "source": [
    "---"
   ]
  },
  {
   "cell_type": "markdown",
   "metadata": {},
   "source": [
    "## Now let's see what we missed"
   ]
  },
  {
   "cell_type": "markdown",
   "metadata": {},
   "source": [
    "## A simple mockup of the final graph"
   ]
  },
  {
   "cell_type": "code",
   "execution_count": 32,
   "metadata": {
    "colab": {
     "base_uri": "https://localhost:8080/",
     "height": 351
    },
    "id": "5SwVeBYuo4RD",
    "outputId": "f472417e-2884-47dd-cf9b-c0a927431b05"
   },
   "outputs": [
    {
     "data": {
      "image/png": "[encoded data removed]",
      "text/plain": [
       "<Figure size 720x360 with 2 Axes>"
      ]
     },
     "metadata": {
      "needs_background": "light"
     },
     "output_type": "display_data"
    }
   ],
   "source": [
    "observation = 18\n",
    "nums = [0,1,2,3,4,5,6,7,8,9]\n",
    "\n",
    "fig, ax = plt.subplots(1,2, figsize=(10,5))\n",
    "ax[0].imshow(test_X[observation], cmap=plt.cm.binary)\n",
    "ax[0].grid(False)\n",
    "ax[0].set_xticks([])\n",
    "ax[0].set_yticks([])\n",
    "ax[0].set_xlabel('This is a ' + str(test_y[observation]))\n",
    "ax[1].bar(nums,all_predictions[observation])\n",
    "ax[1].set_xticks(nums)\n",
    "ax[1].set_xlabel('Number')\n",
    "ax[1].set_ylabel('Porbability')\n",
    "plt.show()\n"
   ]
  },
  {
   "cell_type": "code",
   "execution_count": 57,
   "metadata": {},
   "outputs": [],
   "source": [
    "def plot_classified_image(ax, img, label, classification):\n",
    "    plt.xticks([])\n",
    "    plt.yticks([])\n",
    "    plt.grid(False)\n",
    "    plt.imshow(img, cmap=plt.cm.binary)\n",
    "    predicted = np.argmax(classification)\n",
    "    if predicted == label:\n",
    "        color = 'black'\n",
    "    else:\n",
    "        color = 'r'\n",
    "\n",
    "    plt.xlabel(\"Predicted : {}  Confidence : {:2.0f}  Actual : {}\".format(predicted, np.max(classification), label), color=color)\n",
    "    # plt.xlabel(\"[zzzzz]\")\n",
    "    return ax"
   ]
  },
  {
   "cell_type": "code",
   "execution_count": 52,
   "metadata": {},
   "outputs": [],
   "source": [
    "# may need to fix this when we have labels for the category names\n",
    "def plot_prediction(ax, label, prediction):\n",
    "    number_of_classes = len(prediction)\n",
    "    x_values = np.arange(number_of_classes)\n",
    "    predicted = np.argmax(prediction)\n",
    "    ax.bar(x_values,prediction, alpha=0.75)\n",
    "    ax.bar(predicted, prediction[predicted], color='r', label='prediction')\n",
    "    ax.bar(label,prediction[label], color='g', label='actual')\n",
    "    ax.set_xticks(x_values)\n",
    "    ax.set_xlabel('Number')\n",
    "    ax.set_ylabel('Porbability')\n",
    "    ax.legend()"
   ]
  },
  {
   "cell_type": "code",
   "execution_count": 58,
   "metadata": {},
   "outputs": [
    {
     "data": {
      "image/png": "[encoded data removed]",
      "text/plain": [
       "<Figure size 864x432 with 2 Axes>"
      ]
     },
     "metadata": {
      "needs_background": "light"
     },
     "output_type": "display_data"
    }
   ],
   "source": [
    "obs = 17\n",
    "\n",
    "fig, ax = plt.subplots(1,2, figsize=(12,6))\n",
    "plot_classified_image(plt.subplot(1,2,1), test_X[obs], test_y[obs], all_predictions[obs])\n",
    "plot_prediction(plt.subplot(1,2,2), test_y[obs], all_predictions[obs])\n",
    "plt.show()"
   ]
  },
  {
   "cell_type": "code",
   "execution_count": 82,
   "metadata": {},
   "outputs": [],
   "source": [
    "def graph_predictions(images, labels, predictions, rows=1, cols=1, start=0, zoom=2):\n",
    "    n_plots = rows * cols * 2\n",
    "    fig, ax = plt.subplots(rows,cols * 2,figsize=(cols * 2 * zoom, rows * zoom))\n",
    "    plt.subplots_adjust(left=0.1,\n",
    "                    bottom=0.1, \n",
    "                    right=0.9, \n",
    "                    top=0.9, \n",
    "                    wspace=0.4, \n",
    "                    hspace=0.4)\n",
    "    for n in range(n_plots):\n",
    "        #plt.subplot(rows, cols * 2, n+1)\n",
    "        img_index = (n // 2) + start\n",
    "        if((n%2)==0):\n",
    "            plot_classified_image(plt.subplot(rows, cols * 2, n+1), images[img_index], labels[img_index], predictions[img_index])\n",
    "        else:\n",
    "            plot_prediction(plt.subplot(rows, cols * 2, n+1), labels[img_index], predictions[img_index])\n",
    "    plt.show()"
   ]
  },
  {
   "cell_type": "code",
   "execution_count": 83,
   "metadata": {},
   "outputs": [
    {
     "data": {
      "image/png": "[encoded data removed]",
      "text/plain": [
       "<Figure size 1728x1152 with 24 Axes>"
      ]
     },
     "metadata": {
      "needs_background": "light"
     },
     "output_type": "display_data"
    }
   ],
   "source": [
    "graph_predictions(test_X, test_y, all_predictions, start=240, rows=4, cols=3, zoom=4)"
   ]
  },
  {
   "cell_type": "markdown",
   "metadata": {
    "id": "_Dl-Mz6mky2j"
   },
   "source": [
    "## Save the Model"
   ]
  },
  {
   "cell_type": "code",
   "execution_count": null,
   "metadata": {
    "id": "WVbRHnpRk2Cr"
   },
   "outputs": [],
   "source": [
    "model.save('HandWriting_model.h5')"
   ]
  }
 ],
 "metadata": {
  "colab": {
   "collapsed_sections": [],
   "name": "HandWriting.ipynb",
   "provenance": []
  },
  "kernelspec": {
   "display_name": "Python 3 (ipykernel)",
   "language": "python",
   "name": "python3"
  },
  "language_info": {
   "codemirror_mode": {
    "name": "ipython",
    "version": 3
   },
   "file_extension": ".py",
   "mimetype": "text/x-python",
   "name": "python",
   "nbconvert_exporter": "python",
   "pygments_lexer": "ipython3",
   "version": "3.8.10"
  }
 },
 "nbformat": 4,
 "nbformat_minor": 4
}
