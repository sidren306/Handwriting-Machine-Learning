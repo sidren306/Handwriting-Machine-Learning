{
 "cells": [
  {
   "cell_type": "markdown",
   "id": "83226f81-c16f-44ff-a79d-e7e3914197b5",
   "metadata": {},
   "source": [
    "## Read the model and my data and predict"
   ]
  },
  {
   "cell_type": "code",
   "execution_count": 52,
   "id": "5e63d3ac-59cc-4ced-b86a-770a160c8ab7",
   "metadata": {},
   "outputs": [
    {
     "name": "stdout",
     "output_type": "stream",
     "text": [
      "tf ver:\t\t 2.7.0\n",
      "keras ver:\t 2.7.0\n",
      "np ver:\t\t 1.17.4\n",
      "pil ver:\t 7.0.0\n"
     ]
    }
   ],
   "source": [
    "from __future__ import absolute_import, division, print_function\n",
    "\n",
    "# Tensorflow and tf.keras\n",
    "import tensorflow as tf\n",
    "from tensorflow import keras\n",
    "\n",
    "# Helper libraries\n",
    "import numpy as np\n",
    "import matplotlib.pyplot as plt\n",
    "\n",
    "from PIL import Image\n",
    "import PIL\n",
    "\n",
    "import h5py\n",
    "\n",
    "print(\"tf ver:\\t\\t\", tf.__version__)\n",
    "print(\"keras ver:\\t\", keras.__version__)\n",
    "print(\"np ver:\\t\\t\", np.__version__)\n",
    "print(\"pil ver:\\t\", PIL.__version__)"
   ]
  },
  {
   "cell_type": "code",
   "execution_count": 53,
   "id": "af9b679d-7af7-49f2-8f49-530809821e0e",
   "metadata": {},
   "outputs": [],
   "source": [
    "mydata = np.load('mynumber.npz')"
   ]
  },
  {
   "cell_type": "code",
   "execution_count": 54,
   "id": "d945c815-ce7f-4446-a6e7-65536dffbe41",
   "metadata": {},
   "outputs": [
    {
     "data": {
      "text/plain": [
       "numpy.lib.npyio.NpzFile"
      ]
     },
     "execution_count": 54,
     "metadata": {},
     "output_type": "execute_result"
    }
   ],
   "source": [
    "type(mydata)"
   ]
  },
  {
   "cell_type": "code",
   "execution_count": 55,
   "id": "99c24e73-16aa-419d-8803-9e7a85e205fa",
   "metadata": {},
   "outputs": [
    {
     "data": {
      "text/plain": [
       "['images', 'labels']"
      ]
     },
     "execution_count": 55,
     "metadata": {},
     "output_type": "execute_result"
    }
   ],
   "source": [
    "mydata.files"
   ]
  },
  {
   "cell_type": "code",
   "execution_count": 56,
   "id": "c77b2a46-435c-449f-a4c7-c4e3938b1578",
   "metadata": {},
   "outputs": [
    {
     "data": {
      "text/plain": [
       "(10, 28, 28)"
      ]
     },
     "execution_count": 56,
     "metadata": {},
     "output_type": "execute_result"
    }
   ],
   "source": [
    "mydata['images'].shape"
   ]
  },
  {
   "cell_type": "code",
   "execution_count": 57,
   "id": "4efe6d91-4ba7-406e-b869-90635ca7ff0e",
   "metadata": {},
   "outputs": [
    {
     "data": {
      "text/plain": [
       "(10,)"
      ]
     },
     "execution_count": 57,
     "metadata": {},
     "output_type": "execute_result"
    }
   ],
   "source": [
    "mydata['labels'].shape"
   ]
  },
  {
   "cell_type": "markdown",
   "id": "b41f8f61-f455-4bc6-82c0-32c655dd247c",
   "metadata": {},
   "source": [
    "## Load my AI model"
   ]
  },
  {
   "cell_type": "code",
   "execution_count": 58,
   "id": "3f15da52-306d-42e9-86b7-40f79534db3a",
   "metadata": {},
   "outputs": [],
   "source": [
    "model = keras.models.load_model('HandWriting_model.h5')"
   ]
  },
  {
   "cell_type": "code",
   "execution_count": 59,
   "id": "fc435dd1-ef66-415c-856a-033850dbb1f4",
   "metadata": {},
   "outputs": [
    {
     "name": "stdout",
     "output_type": "stream",
     "text": [
      "Model: \"sequential\"\n",
      "_________________________________________________________________\n",
      " Layer (type)                Output Shape              Param #   \n",
      "=================================================================\n",
      " flatten (Flatten)           (None, 784)               0         \n",
      "                                                                 \n",
      " dense (Dense)               (None, 128)               100480    \n",
      "                                                                 \n",
      " dense_1 (Dense)             (None, 16)                2064      \n",
      "                                                                 \n",
      " dense_2 (Dense)             (None, 10)                170       \n",
      "                                                                 \n",
      "=================================================================\n",
      "Total params: 102,714\n",
      "Trainable params: 102,714\n",
      "Non-trainable params: 0\n",
      "_________________________________________________________________\n",
      "None\n"
     ]
    }
   ],
   "source": [
    "print(model.summary())"
   ]
  },
  {
   "cell_type": "markdown",
   "id": "38207605-22d0-4e60-abfb-4218e45593ed",
   "metadata": {},
   "source": [
    "## Normalize the data"
   ]
  },
  {
   "cell_type": "code",
   "execution_count": 60,
   "id": "280ea132-ae86-4e0e-a304-07a62e84e1b7",
   "metadata": {},
   "outputs": [],
   "source": [
    "images = mydata['images']/255"
   ]
  },
  {
   "cell_type": "markdown",
   "id": "118fafc6-61eb-465b-873e-0b952eb37047",
   "metadata": {},
   "source": [
    "## Make predictions"
   ]
  },
  {
   "cell_type": "code",
   "execution_count": 61,
   "id": "c96aaa30-4c57-402c-9bf8-6918886c9d89",
   "metadata": {},
   "outputs": [],
   "source": [
    "all_predictions = model.predict(images)"
   ]
  },
  {
   "cell_type": "code",
   "execution_count": 62,
   "id": "f84bc356-cfa7-4a61-be28-9765f9ec646b",
   "metadata": {},
   "outputs": [
    {
     "data": {
      "text/plain": [
       "array([  2.027833 ,  11.763771 ,  17.422781 ,   9.528018 , -12.584474 ,\n",
       "         8.5164795,   8.832851 ,  -7.4587913,  12.714036 , -13.612302 ],\n",
       "      dtype=float32)"
      ]
     },
     "execution_count": 62,
     "metadata": {},
     "output_type": "execute_result"
    }
   ],
   "source": [
    "all_predictions[0]"
   ]
  },
  {
   "cell_type": "markdown",
   "id": "77c73ab0-d89c-4db9-95af-2bfb41d2b1a1",
   "metadata": {},
   "source": [
    "## Graph the predictions and images"
   ]
  },
  {
   "cell_type": "code",
   "execution_count": 63,
   "id": "00640dcf-9b7f-4467-8980-cecdc215d703",
   "metadata": {},
   "outputs": [],
   "source": [
    "def plot_classified_image(ax, img, label, classification):\n",
    "    plt.xticks([])\n",
    "    plt.yticks([])\n",
    "    plt.grid(False)\n",
    "    plt.imshow(img, cmap=plt.cm.binary)\n",
    "    predicted = np.argmax(classification)\n",
    "    if predicted == label:\n",
    "        color = 'black'\n",
    "    else:\n",
    "        color = 'r'\n",
    "\n",
    "    plt.xlabel(\"Predicted : {}  Confidence : {:2.0f}  Actual : {}\".format(predicted, np.max(classification), label), color=color)\n",
    "    # plt.xlabel(\"[zzzzz]\")\n",
    "    return ax"
   ]
  },
  {
   "cell_type": "code",
   "execution_count": 64,
   "id": "c432bb48-166f-4053-9395-af41574e8ede",
   "metadata": {},
   "outputs": [],
   "source": [
    "# may need to fix this when we have labels for the category names\n",
    "def plot_prediction(ax, label, prediction):\n",
    "    number_of_classes = len(prediction)\n",
    "    x_values = np.arange(number_of_classes)\n",
    "    predicted = np.argmax(prediction)\n",
    "    ax.bar(x_values,prediction, alpha=0.75)\n",
    "    ax.bar(predicted, prediction[predicted], color='r', label='prediction')\n",
    "    ax.bar(label,prediction[label], color='g', label='actual')\n",
    "    ax.set_xticks(x_values)\n",
    "    ax.set_xlabel('Number')\n",
    "    ax.set_ylabel('Porbability')\n",
    "    ax.legend()"
   ]
  },
  {
   "cell_type": "code",
   "execution_count": 65,
   "id": "d627674d-32f8-468e-9bde-8beea48c708e",
   "metadata": {},
   "outputs": [],
   "source": [
    "def graph_predictions(images, labels, predictions, rows=1, cols=1, start=0, zoom=2):\n",
    "    n_plots = rows * cols * 2\n",
    "    fig, ax = plt.subplots(rows,cols * 2,figsize=(cols * 2 * zoom, rows * zoom))\n",
    "    plt.subplots_adjust(left=0.1,\n",
    "                    bottom=0.1, \n",
    "                    right=0.9, \n",
    "                    top=0.9, \n",
    "                    wspace=0.4, \n",
    "                    hspace=0.4)\n",
    "    for n in range(n_plots):\n",
    "        #plt.subplot(rows, cols * 2, n+1)\n",
    "        img_index = (n // 2) + start\n",
    "        if((n%2)==0):\n",
    "            plot_classified_image(plt.subplot(rows, cols * 2, n+1), images[img_index], labels[img_index], predictions[img_index])\n",
    "        else:\n",
    "            plot_prediction(plt.subplot(rows, cols * 2, n+1), labels[img_index], predictions[img_index])\n",
    "    plt.show()"
   ]
  },
  {
   "cell_type": "code",
   "execution_count": 68,
   "id": "3d3b8c26-80bb-425d-9412-4d8d1cbb28ce",
   "metadata": {
    "tags": []
   },
   "outputs": [
    {
     "data": {
      "image/png": "[encoded data removed]",
      "text/plain": [
       "<Figure size 5760x288 with 20 Axes>"
      ]
     },
     "metadata": {
      "needs_background": "light"
     },
     "output_type": "display_data"
    }
   ],
   "source": [
    "graph_predictions(images, mydata['labels'], all_predictions, start=0, rows=1, cols=10, zoom=4)"
   ]
  },
  {
   "cell_type": "code",
   "execution_count": null,
   "id": "db335d9f-13f2-48f4-a3f5-7d65e2f51298",
   "metadata": {},
   "outputs": [],
   "source": []
  }
 ],
 "metadata": {
  "kernelspec": {
   "display_name": "Python 3 (ipykernel)",
   "language": "python",
   "name": "python3"
  },
  "language_info": {
   "codemirror_mode": {
    "name": "ipython",
    "version": 3
   },
   "file_extension": ".py",
   "mimetype": "text/x-python",
   "name": "python",
   "nbconvert_exporter": "python",
   "pygments_lexer": "ipython3",
   "version": "3.8.10"
  }
 },
 "nbformat": 4,
 "nbformat_minor": 5
}
